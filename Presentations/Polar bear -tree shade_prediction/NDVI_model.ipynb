{
 "cells": [
  {
   "cell_type": "markdown",
   "id": "mediterranean-excess",
   "metadata": {},
   "source": [
    "The increase in temperature is bad for plant health and increases risk of wildfire\n",
    "\n",
    "The NDVI is one of several indexes mentioned in\n",
    "literature dealing with plant health. The United States\n",
    "Forest Service uses it in assessing wildfire risk\n",
    "\n",
    "Four band imagery is useful in agriculture because a\n",
    "bright red color is an indication of healthy vegetation.\n",
    "Variations in the red color can indicate stressed\n",
    "vegetation. These stresses can include a lack of fertility,\n",
    "insect infestation, soil deficiencies, and over or under\n",
    "watering.\n",
    "\n",
    "#predict NDVI and R_NAIP"
   ]
  },
  {
   "cell_type": "code",
   "execution_count": 2,
   "id": "auburn-ticket",
   "metadata": {},
   "outputs": [],
   "source": [
    "import pandas as pd\n",
    "rtree= pd.read_excel('../Data/Aggregated by Block Groups/RD_Aggregated_BG_LC_Data_0331.xlsx', sheet_name=1)"
   ]
  },
  {
   "cell_type": "code",
   "execution_count": 3,
   "id": "recent-housing",
   "metadata": {},
   "outputs": [
    {
     "name": "stdout",
     "output_type": "stream",
     "text": [
      "<class 'pandas.core.frame.DataFrame'>\n",
      "RangeIndex: 307 entries, 0 to 306\n",
      "Data columns (total 21 columns):\n",
      " #   Column              Non-Null Count  Dtype  \n",
      "---  ------              --------------  -----  \n",
      " 0   GEOID10             307 non-null    float64\n",
      " 1   B_NAIP              307 non-null    float64\n",
      " 2   G_NAIP              307 non-null    float64\n",
      " 3   R_NAIP              307 non-null    float64\n",
      " 4   NIR_NAIP            307 non-null    float64\n",
      " 5   NDVI                307 non-null    float64\n",
      " 6   NDBI                307 non-null    float64\n",
      " 7   ESA_LC_MODE         307 non-null    float64\n",
      " 8   Impervious_Surface  307 non-null    float64\n",
      " 9   Tree_Coverage       307 non-null    float64\n",
      " 10  RD_LST_0723         307 non-null    float64\n",
      " 11  RD_LST_0808         307 non-null    float64\n",
      " 12  RD_LST_Composite    307 non-null    float64\n",
      " 13  RD_MODIS_0721       307 non-null    float64\n",
      " 14  RD_MODIS_0724       304 non-null    float64\n",
      " 15  am_hi               307 non-null    float64\n",
      " 16  am_t                307 non-null    float64\n",
      " 17  af_hi               307 non-null    float64\n",
      " 18  af_t                307 non-null    float64\n",
      " 19  pm_hi               307 non-null    float64\n",
      " 20  pm_t                307 non-null    float64\n",
      "dtypes: float64(21)\n",
      "memory usage: 50.5 KB\n"
     ]
    }
   ],
   "source": [
    "rtree.info()"
   ]
  },
  {
   "cell_type": "code",
   "execution_count": 5,
   "id": "listed-water",
   "metadata": {},
   "outputs": [
    {
     "data": {
      "text/plain": [
       "Index(['GEOID10', 'B_NAIP', 'G_NAIP', 'R_NAIP', 'NIR_NAIP', 'NDVI', 'NDBI',\n",
       "       'ESA_LC_MODE', 'Impervious_Surface', 'Tree_Coverage', 'RD_LST_0723',\n",
       "       'RD_LST_0808', 'RD_LST_Composite', 'RD_MODIS_0721', 'RD_MODIS_0724',\n",
       "       'am_hi', 'am_t', 'af_hi', 'af_t', 'pm_hi', 'pm_t', 'avg_t'],\n",
       "      dtype='object')"
      ]
     },
     "execution_count": 5,
     "metadata": {},
     "output_type": "execute_result"
    }
   ],
   "source": [
    "#find the average temperature\n",
    "rtree['avg_t']=(rtree['am_t']+rtree['af_t']+rtree['pm_t'])/3\n",
    "rtree.columns"
   ]
  },
  {
   "cell_type": "code",
   "execution_count": 9,
   "id": "active-watch",
   "metadata": {},
   "outputs": [
    {
     "data": {
      "text/html": [
       "<div>\n",
       "<style scoped>\n",
       "    .dataframe tbody tr th:only-of-type {\n",
       "        vertical-align: middle;\n",
       "    }\n",
       "\n",
       "    .dataframe tbody tr th {\n",
       "        vertical-align: top;\n",
       "    }\n",
       "\n",
       "    .dataframe thead th {\n",
       "        text-align: right;\n",
       "    }\n",
       "</style>\n",
       "<table border=\"1\" class=\"dataframe\">\n",
       "  <thead>\n",
       "    <tr style=\"text-align: right;\">\n",
       "      <th></th>\n",
       "      <th>NDVI</th>\n",
       "      <th>avg_t</th>\n",
       "    </tr>\n",
       "  </thead>\n",
       "  <tbody>\n",
       "    <tr>\n",
       "      <th>count</th>\n",
       "      <td>307.000000</td>\n",
       "      <td>307.000000</td>\n",
       "    </tr>\n",
       "    <tr>\n",
       "      <th>mean</th>\n",
       "      <td>0.472932</td>\n",
       "      <td>77.559447</td>\n",
       "    </tr>\n",
       "    <tr>\n",
       "      <th>std</th>\n",
       "      <td>0.082481</td>\n",
       "      <td>0.571338</td>\n",
       "    </tr>\n",
       "    <tr>\n",
       "      <th>min</th>\n",
       "      <td>0.192321</td>\n",
       "      <td>76.128906</td>\n",
       "    </tr>\n",
       "    <tr>\n",
       "      <th>25%</th>\n",
       "      <td>0.428585</td>\n",
       "      <td>77.192970</td>\n",
       "    </tr>\n",
       "    <tr>\n",
       "      <th>50%</th>\n",
       "      <td>0.488954</td>\n",
       "      <td>77.547765</td>\n",
       "    </tr>\n",
       "    <tr>\n",
       "      <th>75%</th>\n",
       "      <td>0.528623</td>\n",
       "      <td>77.951040</td>\n",
       "    </tr>\n",
       "    <tr>\n",
       "      <th>max</th>\n",
       "      <td>0.675937</td>\n",
       "      <td>79.488749</td>\n",
       "    </tr>\n",
       "  </tbody>\n",
       "</table>\n",
       "</div>"
      ],
      "text/plain": [
       "             NDVI       avg_t\n",
       "count  307.000000  307.000000\n",
       "mean     0.472932   77.559447\n",
       "std      0.082481    0.571338\n",
       "min      0.192321   76.128906\n",
       "25%      0.428585   77.192970\n",
       "50%      0.488954   77.547765\n",
       "75%      0.528623   77.951040\n",
       "max      0.675937   79.488749"
      ]
     },
     "execution_count": 9,
     "metadata": {},
     "output_type": "execute_result"
    }
   ],
   "source": [
    "training_data= rtree.drop(['GEOID10', 'B_NAIP', 'G_NAIP', 'R_NAIP', 'NIR_NAIP', 'NDBI','ESA_LC_MODE', 'Impervious_Surface', 'Tree_Coverage', 'RD_LST_0723','RD_LST_0808', 'RD_LST_Composite', 'RD_MODIS_0721', 'RD_MODIS_0724', 'am_hi', 'am_t', 'af_hi', 'af_t', 'pm_hi', 'pm_t'], axis=1)\n",
    "training_data.describe()"
   ]
  },
  {
   "cell_type": "code",
   "execution_count": 12,
   "id": "whole-economy",
   "metadata": {},
   "outputs": [
    {
     "data": {
      "text/plain": [
       "[]"
      ]
     },
     "execution_count": 12,
     "metadata": {},
     "output_type": "execute_result"
    }
   ],
   "source": [
    "#anu column has nan\n",
    "training_data.columns[training_data.isna().any()].tolist()"
   ]
  },
  {
   "cell_type": "code",
   "execution_count": 13,
   "id": "eleven-steering",
   "metadata": {},
   "outputs": [
    {
     "data": {
      "text/plain": [
       "False"
      ]
     },
     "execution_count": 13,
     "metadata": {},
     "output_type": "execute_result"
    }
   ],
   "source": [
    "#check if there are any nan\n",
    "training_data.isnull().values.any()"
   ]
  },
  {
   "cell_type": "code",
   "execution_count": 16,
   "id": "sacred-bottle",
   "metadata": {},
   "outputs": [
    {
     "data": {
      "text/plain": [
       "<matplotlib.axes._subplots.AxesSubplot at 0x15e5c8705c8>"
      ]
     },
     "execution_count": 16,
     "metadata": {},
     "output_type": "execute_result"
    },
    {
     "data": {
      "image/png": "[encoded data removed]",
      "text/plain": [
       "<Figure size 432x288 with 1 Axes>"
      ]
     },
     "metadata": {
      "needs_background": "light"
     },
     "output_type": "display_data"
    }
   ],
   "source": [
    "training_data.plot.scatter('avg_t', 'NDVI')"
   ]
  },
  {
   "cell_type": "code",
   "execution_count": 18,
   "id": "prospective-effort",
   "metadata": {},
   "outputs": [],
   "source": [
    "from sklearn.model_selection import train_test_split\n",
    "from sklearn.linear_model import LinearRegression \n",
    "from sklearn.metrics import mean_squared_error\n",
    "x_train, x_test, y_train, y_test = train_test_split(training_data.avg_t, training_data.NDVI, test_size = 0.2)"
   ]
  },
  {
   "cell_type": "code",
   "execution_count": 19,
   "id": "spread-farming",
   "metadata": {},
   "outputs": [
    {
     "data": {
      "text/plain": [
       "290    78.038455\n",
       "138    76.602809\n",
       "174    77.589577\n",
       "118    77.360591\n",
       "130    77.353208\n",
       "         ...    \n",
       "71     76.886622\n",
       "188    78.125933\n",
       "210    78.456347\n",
       "272    78.309598\n",
       "105    77.467992\n",
       "Name: avg_t, Length: 245, dtype: float64"
      ]
     },
     "execution_count": 19,
     "metadata": {},
     "output_type": "execute_result"
    }
   ],
   "source": [
    "x_train"
   ]
  },
  {
   "cell_type": "code",
   "execution_count": 20,
   "id": "obvious-intranet",
   "metadata": {},
   "outputs": [
    {
     "data": {
      "text/plain": [
       "289    78.075704\n",
       "146    78.269648\n",
       "76     77.272219\n",
       "258    77.535787\n",
       "5      78.652489\n",
       "         ...    \n",
       "84     77.591062\n",
       "216    77.165525\n",
       "152    77.862310\n",
       "9      76.764346\n",
       "255    77.344660\n",
       "Name: avg_t, Length: 62, dtype: float64"
      ]
     },
     "execution_count": 20,
     "metadata": {},
     "output_type": "execute_result"
    }
   ],
   "source": [
    "x_test"
   ]
  },
  {
   "cell_type": "code",
   "execution_count": 21,
   "id": "wound-challenge",
   "metadata": {},
   "outputs": [
    {
     "data": {
      "text/plain": [
       "290    0.365151\n",
       "138    0.675937\n",
       "174    0.475530\n",
       "118    0.516094\n",
       "130    0.494926\n",
       "         ...   \n",
       "71     0.539641\n",
       "188    0.362597\n",
       "210    0.384009\n",
       "272    0.399049\n",
       "105    0.524237\n",
       "Name: NDVI, Length: 245, dtype: float64"
      ]
     },
     "execution_count": 21,
     "metadata": {},
     "output_type": "execute_result"
    }
   ],
   "source": [
    "y_train"
   ]
  },
  {
   "cell_type": "code",
   "execution_count": 22,
   "id": "reflected-supplement",
   "metadata": {},
   "outputs": [
    {
     "data": {
      "text/plain": [
       "289    0.384145\n",
       "146    0.416360\n",
       "76     0.525686\n",
       "258    0.467949\n",
       "5      0.341339\n",
       "         ...   \n",
       "84     0.470296\n",
       "216    0.515392\n",
       "152    0.431430\n",
       "9      0.571781\n",
       "255    0.500412\n",
       "Name: NDVI, Length: 62, dtype: float64"
      ]
     },
     "execution_count": 22,
     "metadata": {},
     "output_type": "execute_result"
    }
   ],
   "source": [
    "y_test"
   ]
  },
  {
   "cell_type": "code",
   "execution_count": 24,
   "id": "august-trailer",
   "metadata": {},
   "outputs": [
    {
     "data": {
      "text/plain": [
       "LinearRegression()"
      ]
     },
     "execution_count": 24,
     "metadata": {},
     "output_type": "execute_result"
    }
   ],
   "source": [
    "import numpy as np\n",
    "model = LinearRegression()\n",
    "model.fit(np.array(x_train).reshape(-1,1), y_train)"
   ]
  },
  {
   "cell_type": "code",
   "execution_count": 25,
   "id": "chronic-committee",
   "metadata": {},
   "outputs": [],
   "source": [
    "preds = model.predict(np.array(x_test).reshape(-1,1))"
   ]
  },
  {
   "cell_type": "code",
   "execution_count": 26,
   "id": "visible-august",
   "metadata": {},
   "outputs": [
    {
     "data": {
      "text/plain": [
       "289    0.384145\n",
       "146    0.416360\n",
       "76     0.525686\n",
       "258    0.467949\n",
       "5      0.341339\n",
       "Name: NDVI, dtype: float64"
      ]
     },
     "execution_count": 26,
     "metadata": {},
     "output_type": "execute_result"
    }
   ],
   "source": [
    "y_test.head()"
   ]
  },
  {
   "cell_type": "code",
   "execution_count": 27,
   "id": "secure-gothic",
   "metadata": {},
   "outputs": [
    {
     "data": {
      "text/plain": [
       "array([0.40608857, 0.38118321, 0.50926808, 0.47542204, 0.33202073,\n",
       "       0.55134287, 0.41766277, 0.38497574, 0.54360105, 0.49806096,\n",
       "       0.46568026, 0.5011618 , 0.43116278, 0.49075088, 0.57856432,\n",
       "       0.49471617, 0.36482533, 0.4433898 , 0.47506574, 0.49913377,\n",
       "       0.46457088, 0.40592463, 0.53715607, 0.4020067 , 0.35719128,\n",
       "       0.31498684, 0.47376564, 0.3086506 , 0.45042425, 0.51123603,\n",
       "       0.55395058, 0.60152492, 0.50304223, 0.49868929, 0.49078321,\n",
       "       0.40098386, 0.44467128, 0.56553751, 0.3630014 , 0.41130596,\n",
       "       0.49603456, 0.4725511 , 0.37465429, 0.36574725, 0.50782951,\n",
       "       0.47645043, 0.61996407, 0.33052893, 0.57646312, 0.46807929,\n",
       "       0.47594227, 0.42238767, 0.47590929, 0.40402232, 0.55431537,\n",
       "       0.38492741, 0.47306644, 0.4683239 , 0.52296927, 0.43349159,\n",
       "       0.57448668, 0.49996556])"
      ]
     },
     "execution_count": 27,
     "metadata": {},
     "output_type": "execute_result"
    }
   ],
   "source": [
    "preds"
   ]
  },
  {
   "cell_type": "code",
   "execution_count": 30,
   "id": "unsigned-adobe",
   "metadata": {},
   "outputs": [],
   "source": [
    "residuals = preds - y_test"
   ]
  },
  {
   "cell_type": "code",
   "execution_count": 32,
   "id": "closed-watson",
   "metadata": {},
   "outputs": [
    {
     "data": {
      "text/plain": [
       "(array([ 1.,  1.,  0.,  4.,  9.,  7., 10., 15.,  8.,  7.]),\n",
       " array([-0.10824098, -0.09223143, -0.07622189, -0.06021234, -0.0442028 ,\n",
       "        -0.02819325, -0.01218371,  0.00382584,  0.01983539,  0.03584493,\n",
       "         0.05185448]),\n",
       " <a list of 10 Patch objects>)"
      ]
     },
     "execution_count": 32,
     "metadata": {},
     "output_type": "execute_result"
    },
    {
     "data": {
      "image/png": "[encoded data removed]",
      "text/plain": [
       "<Figure size 432x288 with 1 Axes>"
      ]
     },
     "metadata": {
      "needs_background": "light"
     },
     "output_type": "display_data"
    }
   ],
   "source": [
    "import matplotlib.pyplot as plt\n",
    "plt.hist(residuals)"
   ]
  },
  {
   "cell_type": "code",
   "execution_count": 35,
   "id": "governing-andorra",
   "metadata": {},
   "outputs": [
    {
     "data": {
      "text/plain": [
       "0.032201163375882406"
      ]
     },
     "execution_count": 35,
     "metadata": {},
     "output_type": "execute_result"
    }
   ],
   "source": [
    "mean_squared_error(y_test, preds) ** 0.5"
   ]
  },
  {
   "cell_type": "code",
   "execution_count": 64,
   "id": "union-final",
   "metadata": {},
   "outputs": [],
   "source": [
    "def predict_plant_health(temperature):\n",
    "    test=pd.Series(np.array([temperature]))\n",
    "    NDVI = model.predict(np.array(test).reshape(-1,1))\n",
    "    alert_message = \"No recommendation\"\n",
    "    if 0.2 >= NDVI <= 0.4:\n",
    "        alert_message = \"sparse vegetation - Rigoursly Increase the shade in the farm\"\n",
    "    elif 0.4 > NDVI <= 0.6:\n",
    "        alert_message = \"moderate vegetation - Increase the shade in the farm\"\n",
    "    elif NDVI > 0.6:\n",
    "        alert_message = \"Highest density of Green leaves! reap your benefits\"\n",
    "    return alert_message, NDVI[0]\n"
   ]
  },
  {
   "cell_type": "code",
   "execution_count": 65,
   "id": "amazing-yahoo",
   "metadata": {},
   "outputs": [
    {
     "data": {
      "text/plain": [
       "('moderate vegetation - Increase the shade in the farm', 0.28739505436471013)"
      ]
     },
     "execution_count": 65,
     "metadata": {},
     "output_type": "execute_result"
    }
   ],
   "source": [
    "predict_plant_health(79.0)"
   ]
  },
  {
   "cell_type": "code",
   "execution_count": 66,
   "id": "fifty-analyst",
   "metadata": {},
   "outputs": [
    {
     "data": {
      "text/plain": [
       "array([0.40608857, 0.38118321, 0.50926808, 0.47542204, 0.33202073,\n",
       "       0.55134287, 0.41766277, 0.38497574, 0.54360105, 0.49806096,\n",
       "       0.46568026, 0.5011618 , 0.43116278, 0.49075088, 0.57856432,\n",
       "       0.49471617, 0.36482533, 0.4433898 , 0.47506574, 0.49913377,\n",
       "       0.46457088, 0.40592463, 0.53715607, 0.4020067 , 0.35719128,\n",
       "       0.31498684, 0.47376564, 0.3086506 , 0.45042425, 0.51123603,\n",
       "       0.55395058, 0.60152492, 0.50304223, 0.49868929, 0.49078321,\n",
       "       0.40098386, 0.44467128, 0.56553751, 0.3630014 , 0.41130596,\n",
       "       0.49603456, 0.4725511 , 0.37465429, 0.36574725, 0.50782951,\n",
       "       0.47645043, 0.61996407, 0.33052893, 0.57646312, 0.46807929,\n",
       "       0.47594227, 0.42238767, 0.47590929, 0.40402232, 0.55431537,\n",
       "       0.38492741, 0.47306644, 0.4683239 , 0.52296927, 0.43349159,\n",
       "       0.57448668, 0.49996556])"
      ]
     },
     "execution_count": 66,
     "metadata": {},
     "output_type": "execute_result"
    }
   ],
   "source": [
    "import pickle\n",
    "s = pickle.dumps(model)\n",
    "clf2 = pickle.loads(s)\n",
    "clf2.predict(np.array(x_test).reshape(-1,1))"
   ]
  },
  {
   "cell_type": "code",
   "execution_count": 67,
   "id": "acute-clearance",
   "metadata": {},
   "outputs": [
    {
     "data": {
      "text/plain": [
       "['NDVI_predict.joblib']"
      ]
     },
     "execution_count": 67,
     "metadata": {},
     "output_type": "execute_result"
    }
   ],
   "source": [
    "from joblib import dump, load\n",
    "dump(model, 'NDVI_predict.joblib') "
   ]
  },
  {
   "cell_type": "code",
   "execution_count": 68,
   "id": "specific-japanese",
   "metadata": {},
   "outputs": [
    {
     "data": {
      "text/plain": [
       "array([0.40608857, 0.38118321, 0.50926808, 0.47542204, 0.33202073,\n",
       "       0.55134287, 0.41766277, 0.38497574, 0.54360105, 0.49806096,\n",
       "       0.46568026, 0.5011618 , 0.43116278, 0.49075088, 0.57856432,\n",
       "       0.49471617, 0.36482533, 0.4433898 , 0.47506574, 0.49913377,\n",
       "       0.46457088, 0.40592463, 0.53715607, 0.4020067 , 0.35719128,\n",
       "       0.31498684, 0.47376564, 0.3086506 , 0.45042425, 0.51123603,\n",
       "       0.55395058, 0.60152492, 0.50304223, 0.49868929, 0.49078321,\n",
       "       0.40098386, 0.44467128, 0.56553751, 0.3630014 , 0.41130596,\n",
       "       0.49603456, 0.4725511 , 0.37465429, 0.36574725, 0.50782951,\n",
       "       0.47645043, 0.61996407, 0.33052893, 0.57646312, 0.46807929,\n",
       "       0.47594227, 0.42238767, 0.47590929, 0.40402232, 0.55431537,\n",
       "       0.38492741, 0.47306644, 0.4683239 , 0.52296927, 0.43349159,\n",
       "       0.57448668, 0.49996556])"
      ]
     },
     "execution_count": 68,
     "metadata": {},
     "output_type": "execute_result"
    }
   ],
   "source": [
    "clf = load('NDVI_predict.joblib') \n",
    "clf.predict(np.array(x_test).reshape(-1,1))"
   ]
  },
  {
   "cell_type": "code",
   "execution_count": null,
   "id": "australian-repair",
   "metadata": {},
   "outputs": [],
   "source": []
  }
 ],
 "metadata": {
  "kernelspec": {
   "display_name": "Python 3",
   "language": "python",
   "name": "python3"
  },
  "language_info": {
   "codemirror_mode": {
    "name": "ipython",
    "version": 3
   },
   "file_extension": ".py",
   "mimetype": "text/x-python",
   "name": "python",
   "nbconvert_exporter": "python",
   "pygments_lexer": "ipython3",
   "version": "3.7.6"
  }
 },
 "nbformat": 4,
 "nbformat_minor": 5
}
